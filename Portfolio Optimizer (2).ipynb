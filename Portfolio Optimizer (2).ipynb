{
 "cells": [
  {
   "cell_type": "code",
   "execution_count": 8,
   "id": "a50ba811-5c91-4411-bcf5-819b646e1b09",
   "metadata": {},
   "outputs": [],
   "source": [
    "import numpy as np\n",
    "import pandas as pd\n",
    "from scipy.optimize import minimize\n",
    "\n",
    "class PortfolioOptimizer:\n",
    "    def __init__(self, returns_data):\n",
    "        self.returns = returns_data\n",
    "        self.n_assets = len(returns_data.columns)\n",
    "        self.mean_returns = returns_data.mean()\n",
    "        self.cov_matrix = returns_data.cov()\n",
    "        \n",
    "    def calculate_portfolio_metrics(self, weights):\n",
    "        annual_return = np.sum(self.mean_returns * weights) * 252\n",
    "        annual_volatility = np.sqrt(np.dot(weights.T, np.dot(self.cov_matrix * 252, weights)))\n",
    "        sharpe_ratio = annual_return / annual_volatility\n",
    "        \n",
    "        return {\n",
    "            'return': annual_return,\n",
    "            'risk': annual_volatility,\n",
    "            'sharpe_ratio': sharpe_ratio\n",
    "        }\n",
    "    \n",
    "    def optimize_portfolio(self):\n",
    "        constraints = [{'type': 'eq', 'fun': lambda x: np.sum(x) - 1}] \n",
    "        bounds = tuple((0, 1) for _ in range(self.n_assets)) \n",
    "\n",
    "        initial_weights = np.array([1/self.n_assets] * self.n_assets)\n",
    "        \n",
    "        result = minimize(\n",
    "            lambda w: -self.calculate_portfolio_metrics(w)['sharpe_ratio'],\n",
    "            initial_weights,\n",
    "            method='SLSQP',\n",
    "            bounds=bounds,\n",
    "            constraints=constraints\n",
    "        )\n",
    "        \n",
    "        optimal_weights = result.x\n",
    "        metrics = self.calculate_portfolio_metrics(optimal_weights)\n",
    "        metrics['weights'] = dict(zip(self.returns.columns, optimal_weights))\n",
    "        \n",
    "        return metrics\n",
    "\n",
    "def calculate_returns(price_data):\n",
    "    return price_data.pct_change().dropna()"
   ]
  },
  {
   "cell_type": "code",
   "execution_count": 17,
   "id": "c5ac2599-2f69-403d-af00-8c0ee3f46728",
   "metadata": {},
   "outputs": [
    {
     "name": "stdout",
     "output_type": "stream",
     "text": [
      "Annual Return: 316.33%\n",
      "Annual Risk: 113.76%\n",
      "Sharpe Ratio: 2.78\n",
      "\n",
      "Optimal Portfolio Weights:\n",
      "Stock1: 0.00%\n",
      "Stock2: 65.65%\n",
      "Stock3: 34.35%\n"
     ]
    }
   ],
   "source": [
    "# Example usage with price data\n",
    "prices = pd.DataFrame({\n",
    "    'Stock1': [100.245,102.325,99.144,99.928],\n",
    "    'Stock2': [45.315,41.353,42.415,47.255],\n",
    "    'Stock3': [81.325,81.928,79.0249,81.995]\n",
    "}, index=['2024-01-01', '2024-01-02', '2024-01-03', '2024-01-04'])\n",
    "\n",
    "\n",
    "returns = calculate_returns(prices)\n",
    "\n",
    "optimizer = PortfolioOptimizer(returns)\n",
    "optimal_portfolio = optimizer.optimize_portfolio()\n",
    "\n",
    "print(\"Annual Return: {:.2%}\".format(optimal_portfolio['return']))\n",
    "print(\"Annual Risk: {:.2%}\".format(optimal_portfolio['risk']))\n",
    "print(\"Sharpe Ratio: {:.2f}\".format(optimal_portfolio['sharpe_ratio']))\n",
    "print(\"\\nOptimal Portfolio Weights:\")\n",
    "for asset, weight in optimal_portfolio['weights'].items():\n",
    "    print(f\"{asset}: {weight:.2%}\")"
   ]
  },
  {
   "cell_type": "code",
   "execution_count": null,
   "id": "7aef2836-9818-4eff-a34e-ffe97cab1151",
   "metadata": {},
   "outputs": [],
   "source": []
  },
  {
   "cell_type": "code",
   "execution_count": null,
   "id": "ba096343-37cc-4b20-b340-2c6064156db6",
   "metadata": {},
   "outputs": [],
   "source": []
  }
 ],
 "metadata": {
  "kernelspec": {
   "display_name": "Python 3 (ipykernel)",
   "language": "python",
   "name": "python3"
  },
  "language_info": {
   "codemirror_mode": {
    "name": "ipython",
    "version": 3
   },
   "file_extension": ".py",
   "mimetype": "text/x-python",
   "name": "python",
   "nbconvert_exporter": "python",
   "pygments_lexer": "ipython3",
   "version": "3.12.8"
  }
 },
 "nbformat": 4,
 "nbformat_minor": 5
}
